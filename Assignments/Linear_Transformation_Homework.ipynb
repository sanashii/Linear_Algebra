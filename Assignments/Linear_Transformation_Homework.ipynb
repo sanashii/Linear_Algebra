{
 "cells": [
  {
   "cell_type": "markdown",
   "id": "843164ed-19f6-4319-8d03-ce9224073bac",
   "metadata": {},
   "source": [
    "### Andrea Claire M. Baulita    BS CS - 3\n",
    "\n",
    "# Coding Challenges\n",
    "\n",
    "1. Develop a python function from scratch that will find the determinants of any $n \\times n$ matrix.\n",
    "\n",
    "2. Develop a python function from scratch that will find both the eigenvectors and eigenvalues of any $n \\times n$ matrix.\n",
    "\n",
    "3. Test your functions from a randomly generated $n \\times n$ matrix."
   ]
  },
  {
   "cell_type": "code",
   "execution_count": 22,
   "id": "0e834137-0b95-4edf-bc3b-625b78b037b9",
   "metadata": {},
   "outputs": [
    {
     "name": "stdout",
     "output_type": "stream",
     "text": [
      "Randomly Generated Matrix:\n",
      "[[0.0395461  0.24353486]\n",
      " [0.30137523 0.89159237]]\n",
      "\n",
      "Det = -0.03813636963339884\n",
      "\n",
      "Eigenvalues:\n",
      "[-0.03929816  0.97043663]\n",
      "\n",
      "Eigenvectors:\n",
      "[[-0.95138321 -0.25309699]\n",
      " [ 0.30800973 -0.96744091]]\n",
      "\n"
     ]
    }
   ],
   "source": [
    "import numpy as np\n",
    "\n",
    "# 1) function for finding the determinant of a matrix\n",
    "def det(matrix):\n",
    "    \"\"\"Calculates the determinant of a square matrix.\n",
    "\n",
    "    Args:\n",
    "        matrix: A square NumPy array.\n",
    "\n",
    "    Returns:\n",
    "        The determinant of the matrix.\n",
    "    \"\"\"\n",
    "\n",
    "    if len(matrix.shape) != 2 or matrix.shape[0] != matrix.shape[1]:\n",
    "        raise ValueError(\"Matrix must be square.\")\n",
    "\n",
    "    if matrix.shape[0] == 1:\n",
    "        return matrix[0][0]\n",
    "\n",
    "    det_value = 0\n",
    "\n",
    "    for col in range(matrix.shape[0]):\n",
    "        cofactor = matrix[0][col] * determinant(\n",
    "            np.delete(np.delete(matrix, 0, 0), col, 1))\n",
    "        det_value += (-1) ** col * cofactor\n",
    "\n",
    "    return det_value\n",
    "\n",
    "# 2) function for finding the eigenvalues & eigenvectors\n",
    "def eigen(matrix):\n",
    "    \"\"\"Calculates the eigenvalues and eigenvectors of a square matrix.\n",
    "\n",
    "    Args:\n",
    "        matrix: A square NumPy array.\n",
    "\n",
    "    Returns:\n",
    "        A tuple of two NumPy arrays, where the first array contains the eigenvalues\n",
    "        and the second array contains the eigenvectors.\n",
    "    \"\"\"\n",
    "\n",
    "    if len(matrix.shape) != 2 or matrix.shape[0] != matrix.shape[1]:\n",
    "        raise ValueError(\"Matrix must be square.\")\n",
    "\n",
    "    eigenvalues, eigenvectors = np.linalg.eig(matrix)\n",
    "\n",
    "    return eigenvalues, eigenvectors\n",
    "\n",
    "# 3) function tests with a randomly generated nxn matrix\n",
    "n = 2\n",
    "random_matrix = np.random.rand(n, n)\n",
    "\n",
    "det_value = det(random_matrix)\n",
    "eigenvalues, eigenvectors = eigen(random_matrix)\n",
    "\n",
    "print(f\"Randomly Generated Matrix:\\n{random_matrix}\\n\")\n",
    "print(f\"Det = {det_value}\\n\")\n",
    "print(f\"Eigenvalues:\\n{eigenvalues}\\n\")\n",
    "print(f\"Eigenvectors:\\n{eigenvectors}\\n\")\n"
   ]
  }
 ],
 "metadata": {
  "kernelspec": {
   "display_name": "Python 3 (ipykernel)",
   "language": "python",
   "name": "python3"
  },
  "language_info": {
   "codemirror_mode": {
    "name": "ipython",
    "version": 3
   },
   "file_extension": ".py",
   "mimetype": "text/x-python",
   "name": "python",
   "nbconvert_exporter": "python",
   "pygments_lexer": "ipython3",
   "version": "3.9.17"
  }
 },
 "nbformat": 4,
 "nbformat_minor": 5
}
